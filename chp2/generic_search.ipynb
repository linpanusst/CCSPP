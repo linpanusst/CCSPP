{
 "cells": [
  {
   "cell_type": "markdown",
   "metadata": {},
   "source": [
    "# 总结：\n",
    "1. 常用搜索有遍历搜索和二分查找搜索，它们的计算复杂度分别为 O(n)与 O(logn)  \n",
    "2. IntEnum提供比较运算符 <, >, =  \n",
    "3. 二分查找的原数据序列必须是有序序列"
   ]
  },
  {
   "cell_type": "code",
   "execution_count": 1,
   "metadata": {},
   "outputs": [],
   "source": [
    "from enum import IntEnum\n",
    "from typing import Tuple, List"
   ]
  },
  {
   "cell_type": "code",
   "execution_count": 2,
   "metadata": {},
   "outputs": [],
   "source": [
    "Nucleotide: IntEnum = IntEnum('Necleotide', ('A', 'C', 'G', 'T'))"
   ]
  },
  {
   "cell_type": "code",
   "execution_count": 3,
   "metadata": {},
   "outputs": [],
   "source": [
    "Codon = Tuple[Nucleotide, Nucleotide, Nucleotide]\n",
    "Gene = List[Codon]"
   ]
  },
  {
   "cell_type": "code",
   "execution_count": 4,
   "metadata": {},
   "outputs": [],
   "source": [
    "gene_str: str = \"ACGTCGACGTCATCACGTTTCAGCGG\""
   ]
  },
  {
   "cell_type": "code",
   "execution_count": 5,
   "metadata": {},
   "outputs": [],
   "source": [
    "def string_to_gene(s:str)->Gene:\n",
    "    gene: Gene = []\n",
    "    for  i in range(0, len(s), 3):\n",
    "        if (i+2)>=len(s):\n",
    "            return gene\n",
    "        codon: Codon = (Nucleotide[s[i]], Nucleotide[s[i+1]], Nucleotide[s[i+2]])\n",
    "        gene.append(codon)\n",
    "    return gene"
   ]
  },
  {
   "cell_type": "code",
   "execution_count": 6,
   "metadata": {},
   "outputs": [
    {
     "data": {
      "text/plain": [
       "[(<Necleotide.A: 1>, <Necleotide.C: 2>, <Necleotide.G: 3>),\n",
       " (<Necleotide.T: 4>, <Necleotide.C: 2>, <Necleotide.G: 3>),\n",
       " (<Necleotide.A: 1>, <Necleotide.C: 2>, <Necleotide.G: 3>),\n",
       " (<Necleotide.T: 4>, <Necleotide.C: 2>, <Necleotide.A: 1>),\n",
       " (<Necleotide.T: 4>, <Necleotide.C: 2>, <Necleotide.A: 1>),\n",
       " (<Necleotide.C: 2>, <Necleotide.G: 3>, <Necleotide.T: 4>),\n",
       " (<Necleotide.T: 4>, <Necleotide.T: 4>, <Necleotide.C: 2>),\n",
       " (<Necleotide.A: 1>, <Necleotide.G: 3>, <Necleotide.C: 2>)]"
      ]
     },
     "execution_count": 6,
     "metadata": {},
     "output_type": "execute_result"
    }
   ],
   "source": [
    "my_gene: Gene = string_to_gene(gene_str)\n",
    "my_gene"
   ]
  },
  {
   "cell_type": "code",
   "execution_count": 7,
   "metadata": {},
   "outputs": [],
   "source": [
    "def linear_contains(gene: Gene, key_codon: Codon)->bool:\n",
    "    for codon in gene:\n",
    "        if codon == key_codon:\n",
    "            return True\n",
    "    return False"
   ]
  },
  {
   "cell_type": "code",
   "execution_count": 8,
   "metadata": {},
   "outputs": [],
   "source": [
    "acg: Codon = (Nucleotide.A, Nucleotide.C, Nucleotide.G)\n",
    "gat: Codon = (Nucleotide.G, Nucleotide.A, Nucleotide.T)"
   ]
  },
  {
   "cell_type": "code",
   "execution_count": 9,
   "metadata": {},
   "outputs": [
    {
     "data": {
      "text/plain": [
       "True"
      ]
     },
     "execution_count": 9,
     "metadata": {},
     "output_type": "execute_result"
    }
   ],
   "source": [
    "linear_contains(my_gene, acg)"
   ]
  },
  {
   "cell_type": "code",
   "execution_count": 10,
   "metadata": {},
   "outputs": [
    {
     "data": {
      "text/plain": [
       "False"
      ]
     },
     "execution_count": 10,
     "metadata": {},
     "output_type": "execute_result"
    }
   ],
   "source": [
    "linear_contains(my_gene, gat)"
   ]
  },
  {
   "cell_type": "code",
   "execution_count": 11,
   "metadata": {},
   "outputs": [
    {
     "data": {
      "text/plain": [
       "((<Necleotide.A: 1>, <Necleotide.C: 2>, <Necleotide.G: 3>),\n",
       " (<Necleotide.T: 4>, <Necleotide.C: 2>, <Necleotide.A: 1>))"
      ]
     },
     "execution_count": 11,
     "metadata": {},
     "output_type": "execute_result"
    }
   ],
   "source": [
    "my_gene[2], my_gene[3]"
   ]
  },
  {
   "cell_type": "markdown",
   "metadata": {},
   "source": [
    "## generic search"
   ]
  },
  {
   "cell_type": "code",
   "execution_count": 12,
   "metadata": {},
   "outputs": [],
   "source": [
    "from __future__ import annotations\n",
    "from typing import TypeVar, Iterable, Sequence, Generic, List, Callable, Set, Deque, Dict, Any, Optional\n",
    "from typing import Protocol\n",
    "from heapq import heappush, heappop"
   ]
  },
  {
   "cell_type": "code",
   "execution_count": 13,
   "metadata": {},
   "outputs": [],
   "source": [
    "T = TypeVar('T')"
   ]
  },
  {
   "cell_type": "markdown",
   "metadata": {},
   "source": [
    "TypeVar是python typing模块中一个工具，用于创建类型变量，用以支持泛型编程。在TypeVar的基础上，可以定义一个或者多个类型变量，然后将他们用作函数或类的参数或者属性的类型注释。它有点像C++中的模板定义，自动推断数据类型，这样使用可以增加代码的重用性和类型安全性。"
   ]
  },
  {
   "cell_type": "code",
   "execution_count": 14,
   "metadata": {},
   "outputs": [],
   "source": [
    "def linear_contains(itearble: Iterable[T], key: T)->bool:\n",
    "    for item in itearble:\n",
    "        if item == key:\n",
    "            return True\n",
    "    return False"
   ]
  },
  {
   "cell_type": "code",
   "execution_count": 17,
   "metadata": {},
   "outputs": [],
   "source": [
    "C = TypeVar(\"C\", bound=\"Comparable\")"
   ]
  },
  {
   "cell_type": "code",
   "execution_count": 18,
   "metadata": {},
   "outputs": [],
   "source": [
    "class Comparable(Protocol):\n",
    "    def __eq__(self, __value: object) -> bool:\n",
    "        return super().__eq__(__value)\n",
    "    \n",
    "    def __lt__(self: C, other: C)->bool:\n",
    "        pass\n",
    "\n",
    "    def __gt__(self:C, other:C)->bool:\n",
    "        return (not self < other) and self != other\n",
    "    \n",
    "    def __le__(self, other) ->bool:\n",
    "        return self <other or self == other\n",
    "    \n",
    "    def __ge__(self, other):\n",
    "        return not self < other"
   ]
  },
  {
   "cell_type": "code",
   "execution_count": 19,
   "metadata": {},
   "outputs": [],
   "source": [
    "def binary_contains(sequence: Sequence[C], key: [C])->bool:\n",
    "    low: int = 0\n",
    "    high = len(sequence) -1\n",
    "    while low <= high:\n",
    "        mid: int = (low + high)//2\n",
    "        if sequence[mid] < key:\n",
    "            low = mid + 1\n",
    "        elif sequence[mid] > key:\n",
    "            high = mid - 1\n",
    "        else:\n",
    "            return True\n",
    "    return False"
   ]
  },
  {
   "cell_type": "code",
   "execution_count": 20,
   "metadata": {},
   "outputs": [],
   "source": [
    "class Stack(Generic[T]):\n",
    "\n",
    "    def __init__(self) -> None:\n",
    "        self._container: List[T] = []\n",
    "\n",
    "    @property\n",
    "    def empty(self)->bool:\n",
    "        return not self._container\n",
    "    \n",
    "    def push(self, item: T)->None:\n",
    "        self._container.append(item)\n",
    "\n",
    "    def pop(self)->T:\n",
    "        return self._container.pop()\n",
    "    \n",
    "    def __repr__(self) -> str:\n",
    "        return repr(self._container)"
   ]
  },
  {
   "cell_type": "code",
   "execution_count": null,
   "metadata": {},
   "outputs": [],
   "source": []
  }
 ],
 "metadata": {
  "kernelspec": {
   "display_name": "d2l",
   "language": "python",
   "name": "python3"
  },
  "language_info": {
   "codemirror_mode": {
    "name": "ipython",
    "version": 3
   },
   "file_extension": ".py",
   "mimetype": "text/x-python",
   "name": "python",
   "nbconvert_exporter": "python",
   "pygments_lexer": "ipython3",
   "version": "3.9.18"
  },
  "orig_nbformat": 4
 },
 "nbformat": 4,
 "nbformat_minor": 2
}
