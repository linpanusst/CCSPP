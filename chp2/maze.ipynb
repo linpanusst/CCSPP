{
 "cells": [
  {
   "cell_type": "markdown",
   "metadata": {},
   "source": [
    "# 总结：\n",
    "1. 求解迷宫问题可以使用深度优先搜索、广度优先搜索、和A*算法\n",
    "2. TBD"
   ]
  },
  {
   "cell_type": "code",
   "execution_count": 1,
   "metadata": {},
   "outputs": [],
   "source": [
    "from enum import Enum\n",
    "from typing import List, NamedTuple, Callable, Optional\n",
    "import random\n",
    "from math import sqrt"
   ]
  },
  {
   "cell_type": "code",
   "execution_count": 2,
   "metadata": {},
   "outputs": [],
   "source": [
    "class Cell(str, Enum):\n",
    "    EMPTY = \" \"\n",
    "    BLOCKED = \"X\"\n",
    "    START = \"S\"\n",
    "    GOAL = \"G\"\n",
    "    PATH = \"*\""
   ]
  },
  {
   "cell_type": "code",
   "execution_count": 3,
   "metadata": {},
   "outputs": [],
   "source": [
    "class MazeLocation(NamedTuple):\n",
    "    row: int\n",
    "    column: int"
   ]
  },
  {
   "cell_type": "code",
   "execution_count": 17,
   "metadata": {},
   "outputs": [],
   "source": [
    "class Maze:\n",
    "    def __init__(self, rows=10, columns=10, sparseness=0.1, start=MazeLocation(0, 0), \\\n",
    "                 goal=MazeLocation(9, 9)) -> None:\n",
    "        self._rows = rows\n",
    "        self._columns = columns\n",
    "        self.start = start\n",
    "        self.goal = goal\n",
    "        self._grid = [[Cell.EMPTY for c in range(columns)] for r in range(rows)]\n",
    "        self._randomly_fill(rows, columns, sparseness)\n",
    "        self._grid[start.row][start.column] = Cell.START\n",
    "        self._grid[goal.row][goal.column] = Cell.GOAL\n",
    "\n",
    "    def _randomly_fill(self, rows, columns, sparseness):\n",
    "        for row in range(rows):\n",
    "            for column in range(columns):\n",
    "                if random.uniform(0, 1.0) < sparseness:\n",
    "                    self._grid[row][column] = Cell.BLOCKED\n",
    "\n",
    "    def __str__(self) -> str:\n",
    "        output = \"\"\n",
    "        for row in self._grid:\n",
    "            output += \"| \".join([c.value for c in row]) + \"\\n\"\n",
    "        return output\n",
    "    \n",
    "    def goal_test(self, ml:MazeLocation)->bool:\n",
    "        return ml == self.goal\n",
    "    \n",
    "    def successors(self, ml:MazeLocation)->List[MazeLocation]:\n",
    "        locations: List[MazeLocation] = []\n",
    "        if ml.row+1<self._rows and self._grid[ml.row+1][ml.column] != Cell.BLOCKED:\n",
    "            locations.append(MazeLocation(ml.row+1, ml.column))\n",
    "        if ml.row-1>=0 and self._grid[ml.row-1][ml.column] != Cell.BLOCKED:\n",
    "            locations.append(MazeLocation(ml.row-1, ml.column))\n",
    "        if ml.column + 1< self._columns and self._grid[ml.row][ml.column+1] != Cell.BLOCKED:\n",
    "            locations.append(MazeLocation(ml.row, ml.column+1))\n",
    "        if ml.column-1>=0 and self._grid[ml.row][ml.column-1] != Cell.BLOCKED:\n",
    "            locations.append(MazeLocation(ml.row, ml.column-1))\n",
    "        return locations"
   ]
  },
  {
   "cell_type": "code",
   "execution_count": 16,
   "metadata": {},
   "outputs": [
    {
     "name": "stdout",
     "output_type": "stream",
     "text": [
      "S|  |  |  | X|  | X|  |  |  \n",
      " |  |  |  |  |  |  | X| X|  \n",
      " | X|  |  |  |  |  |  |  |  \n",
      " |  |  |  |  |  |  |  |  |  \n",
      " |  |  |  |  |  |  |  |  |  \n",
      " | X|  |  |  |  |  |  |  |  \n",
      " |  |  |  |  |  |  |  |  |  \n",
      " |  |  |  |  |  |  | X|  |  \n",
      " |  | X|  |  |  | X|  |  |  \n",
      " |  |  |  | X|  |  |  |  | G\n",
      "\n"
     ]
    }
   ],
   "source": [
    "maze = Maze()\n",
    "print(maze)"
   ]
  },
  {
   "cell_type": "code",
   "execution_count": null,
   "metadata": {},
   "outputs": [],
   "source": []
  }
 ],
 "metadata": {
  "kernelspec": {
   "display_name": "d2l",
   "language": "python",
   "name": "python3"
  },
  "language_info": {
   "codemirror_mode": {
    "name": "ipython",
    "version": 3
   },
   "file_extension": ".py",
   "mimetype": "text/x-python",
   "name": "python",
   "nbconvert_exporter": "python",
   "pygments_lexer": "ipython3",
   "version": "3.9.18"
  },
  "orig_nbformat": 4
 },
 "nbformat": 4,
 "nbformat_minor": 2
}
