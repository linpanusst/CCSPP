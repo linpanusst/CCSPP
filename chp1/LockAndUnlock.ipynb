{
 "cells": [
  {
   "cell_type": "markdown",
   "metadata": {},
   "source": [
    "# 总结\n",
    "1. One time pad 是一种几乎不可能破解的加密方式。\n",
    "2. 加密需要原始数据，假数据做异或操作得到两个秘钥，一个秘钥是生成的结果，一个秘钥是假数据。\n",
    "3. 通过异或操作，以秘钥和结果和假数据为输入，再次进行异或操作得到原始数据。\n",
    "\n",
    "原理如下：  \\\n",
    "A ^ B = C  \\\n",
    "C ^ B = A  \\\n",
    "C ^ A = B  "
   ]
  },
  {
   "cell_type": "code",
   "execution_count": 1,
   "metadata": {},
   "outputs": [],
   "source": [
    "from secrets import token_bytes\n",
    "from typing import Tuple"
   ]
  },
  {
   "cell_type": "code",
   "execution_count": 2,
   "metadata": {},
   "outputs": [],
   "source": [
    "def random_key(length):\n",
    "    tb = token_bytes(length)\n",
    "    return int.from_bytes(tb, \"big\")"
   ]
  },
  {
   "cell_type": "code",
   "execution_count": 3,
   "metadata": {},
   "outputs": [],
   "source": [
    "def encrypt(original):\n",
    "    original_bytes = original.encode()\n",
    "    dummy = random_key(len(original_bytes))\n",
    "    original_key = int.from_bytes(original_bytes, \"big\")\n",
    "    encrypted = original_key ^ dummy\n",
    "    return dummy, encrypted"
   ]
  },
  {
   "cell_type": "code",
   "execution_count": 4,
   "metadata": {},
   "outputs": [],
   "source": [
    "def decrypt(key1, key2):\n",
    "    decrypted = key1 ^ key2\n",
    "    temp = decrypted.to_bytes((decrypted.bit_length() + 7)//8, \"big\")\n",
    "    return temp.decode()"
   ]
  },
  {
   "cell_type": "code",
   "execution_count": 6,
   "metadata": {},
   "outputs": [
    {
     "data": {
      "text/plain": [
       "(1458215640051618751392726058719, 8082139078550352890494263780788)"
      ]
     },
     "execution_count": 6,
     "metadata": {},
     "output_type": "execute_result"
    }
   ],
   "source": [
    "key1, key2 = encrypt(\"test for lock\")\n",
    "key1, key2"
   ]
  },
  {
   "cell_type": "code",
   "execution_count": 8,
   "metadata": {},
   "outputs": [
    {
     "data": {
      "text/plain": [
       "'test for lock'"
      ]
     },
     "execution_count": 8,
     "metadata": {},
     "output_type": "execute_result"
    }
   ],
   "source": [
    "origin = decrypt(key1, key2)\n",
    "origin"
   ]
  },
  {
   "cell_type": "code",
   "execution_count": 9,
   "metadata": {},
   "outputs": [
    {
     "data": {
      "text/plain": [
       "'test for lock'"
      ]
     },
     "execution_count": 9,
     "metadata": {},
     "output_type": "execute_result"
    }
   ],
   "source": [
    "origin = decrypt(key2, key1)\n",
    "origin"
   ]
  },
  {
   "cell_type": "code",
   "execution_count": 11,
   "metadata": {},
   "outputs": [
    {
     "data": {
      "text/plain": [
       "9221864412508063762182810067819"
      ]
     },
     "execution_count": 11,
     "metadata": {},
     "output_type": "execute_result"
    }
   ],
   "source": [
    "original_key = int.from_bytes(\"test for lock\".encode(), \"big\")\n",
    "original_key"
   ]
  },
  {
   "cell_type": "markdown",
   "metadata": {},
   "source": [
    "encode()将字符串转化为二进制数据，decoder()将二进制数据转化为文本"
   ]
  },
  {
   "cell_type": "markdown",
   "metadata": {},
   "source": []
  }
 ],
 "metadata": {
  "kernelspec": {
   "display_name": "d2l",
   "language": "python",
   "name": "python3"
  },
  "language_info": {
   "codemirror_mode": {
    "name": "ipython",
    "version": 3
   },
   "file_extension": ".py",
   "mimetype": "text/x-python",
   "name": "python",
   "nbconvert_exporter": "python",
   "pygments_lexer": "ipython3",
   "version": "3.9.18"
  },
  "orig_nbformat": 4
 },
 "nbformat": 4,
 "nbformat_minor": 2
}
