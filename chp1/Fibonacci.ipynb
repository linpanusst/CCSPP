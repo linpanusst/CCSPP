{
 "cells": [
  {
   "cell_type": "markdown",
   "metadata": {},
   "source": [
    "# 总结\n",
    "1. 直观的基础的基线条件的应用使得递归计算刺水呈指数级别增长\n",
    "2. 使用结果缓存进行处理，可以显著提高递归计算效率\n",
    "3. 使用装饰器进行自动化的结果缓存也可以提高递归计算效率\n",
    "4. 使用迭代的方式处理递归，是最高效率的方法，能用递归解决的问题，都可以用迭代解决\n",
    "5. 使用生成器将递归的每一轮计算的值进行输出"
   ]
  },
  {
   "cell_type": "markdown",
   "metadata": {},
   "source": [
    "## 1. 最直接的递归计算"
   ]
  },
  {
   "cell_type": "markdown",
   "metadata": {},
   "source": [
    "fn() = f(n-1) + f(n-2)"
   ]
  },
  {
   "cell_type": "code",
   "execution_count": 1,
   "metadata": {},
   "outputs": [],
   "source": [
    "def fib1(n: int) ->int:\n",
    "    if n<2:\n",
    "        return n\n",
    "    else:\n",
    "        return fib1(n-2) + fib1(n-1)\n"
   ]
  },
  {
   "cell_type": "code",
   "execution_count": 2,
   "metadata": {},
   "outputs": [
    {
     "data": {
      "text/plain": [
       "14930352"
      ]
     },
     "execution_count": 2,
     "metadata": {},
     "output_type": "execute_result"
    }
   ],
   "source": [
    "fib1(36)"
   ]
  },
  {
   "cell_type": "markdown",
   "metadata": {},
   "source": [
    "我们发现fib1()计算35的时候，用时超过2.9s，如果尝试fib(50)，则程序会永远不终止，并可能栈溢出，一定是代码编写存在问题，我们尝试计算fib1()的计算次数"
   ]
  },
  {
   "cell_type": "code",
   "execution_count": 3,
   "metadata": {},
   "outputs": [],
   "source": [
    "count = 0\n",
    "def fib11(n: int) ->int:\n",
    "    global count\n",
    "    count += 1\n",
    "    if n<2:\n",
    "        return n\n",
    "    else:\n",
    "        return fib11(n-2) + fib11(n-1)"
   ]
  },
  {
   "cell_type": "code",
   "execution_count": 4,
   "metadata": {},
   "outputs": [
    {
     "data": {
      "text/plain": [
       "(14930352, 48315633)"
      ]
     },
     "execution_count": 4,
     "metadata": {},
     "output_type": "execute_result"
    }
   ],
   "source": [
    "fib11(36), count"
   ]
  },
  {
   "cell_type": "markdown",
   "metadata": {},
   "source": [
    "共计算48315633次，时长为7.5s，比原来的2.9s多的原因有两个：增加了global变量的计算，global计算在堆区，fib11函数的计算在栈区，堆栈之间的交互也会消耗资源"
   ]
  },
  {
   "cell_type": "markdown",
   "metadata": {},
   "source": [
    "## 2. 用结果缓存在减轻栈空间的消耗"
   ]
  },
  {
   "cell_type": "code",
   "execution_count": 5,
   "metadata": {},
   "outputs": [],
   "source": [
    "from typing import Dict\n",
    "memo: Dict[int, int] = {0:0, 1:1}\n",
    "\n",
    "count = 0\n",
    "def fib2(n: int)->int:\n",
    "    global count\n",
    "    count += 1\n",
    "    if n not in memo:\n",
    "        memo[n] = fib2(n-1) + fib2(n-2)\n",
    "    return memo[n]"
   ]
  },
  {
   "cell_type": "code",
   "execution_count": 6,
   "metadata": {},
   "outputs": [
    {
     "data": {
      "text/plain": [
       "(14930352, 71)"
      ]
     },
     "execution_count": 6,
     "metadata": {},
     "output_type": "execute_result"
    }
   ],
   "source": [
    "fib2(36), count"
   ]
  },
  {
   "cell_type": "markdown",
   "metadata": {},
   "source": [
    "计算接近0s，总共计算71次，使用结果缓存可以大大减少栈空间的消耗"
   ]
  },
  {
   "cell_type": "markdown",
   "metadata": {},
   "source": [
    "## 3. 自动化的结果缓存"
   ]
  },
  {
   "cell_type": "markdown",
   "metadata": {},
   "source": [
    "使用python自带的装饰器，可以自动为任何函数缓存结果"
   ]
  },
  {
   "cell_type": "code",
   "execution_count": 7,
   "metadata": {},
   "outputs": [],
   "source": [
    "from functools import lru_cache\n",
    "\n",
    "count = 0\n",
    "\n",
    "@lru_cache(maxsize=None)\n",
    "def fib3(n):\n",
    "    global count\n",
    "    count += 1\n",
    "    if n<2:\n",
    "        return n\n",
    "    return fib3(n-2) + fib3(n-1)"
   ]
  },
  {
   "cell_type": "code",
   "execution_count": 8,
   "metadata": {},
   "outputs": [
    {
     "data": {
      "text/plain": [
       "(14930352, 37)"
      ]
     },
     "execution_count": 8,
     "metadata": {},
     "output_type": "execute_result"
    }
   ],
   "source": [
    "fib3(36), count"
   ]
  },
  {
   "cell_type": "markdown",
   "metadata": {},
   "source": [
    "计算接近0s，总共计算37次，使用自动化的结果缓存可以大大减少栈空间的消耗，此处的count计算应该存在问题，具体看下文（待解决）"
   ]
  },
  {
   "cell_type": "markdown",
   "metadata": {},
   "source": [
    "## 4. 使用迭代的方式解决递归问题"
   ]
  },
  {
   "cell_type": "code",
   "execution_count": 9,
   "metadata": {},
   "outputs": [],
   "source": [
    "count = 0\n",
    "def fib4(n):\n",
    "    global count \n",
    "    if n == 0:\n",
    "        count += 1\n",
    "        return n\n",
    "    last, next = 0, 1\n",
    "    for _ in range(1, n):\n",
    "        count += 1\n",
    "        last, next = next, last + next\n",
    "    return next"
   ]
  },
  {
   "cell_type": "code",
   "execution_count": 10,
   "metadata": {},
   "outputs": [
    {
     "data": {
      "text/plain": [
       "(14930352, 35)"
      ]
     },
     "execution_count": 10,
     "metadata": {},
     "output_type": "execute_result"
    }
   ],
   "source": [
    "fib4(36), count"
   ]
  },
  {
   "cell_type": "markdown",
   "metadata": {},
   "source": [
    "计算接近0s，总共计算35次，使用迭代的方式解决递归问题，可以大大减少计算消耗"
   ]
  },
  {
   "cell_type": "markdown",
   "metadata": {},
   "source": [
    "## 5. 比较"
   ]
  },
  {
   "cell_type": "code",
   "execution_count": 11,
   "metadata": {},
   "outputs": [
    {
     "data": {
      "text/plain": [
       "(354224848179261915075, 129)"
      ]
     },
     "execution_count": 11,
     "metadata": {},
     "output_type": "execute_result"
    }
   ],
   "source": [
    "count = 0\n",
    "fib2(100), count"
   ]
  },
  {
   "cell_type": "code",
   "execution_count": 12,
   "metadata": {},
   "outputs": [
    {
     "data": {
      "text/plain": [
       "(354224848179261915075, 64)"
      ]
     },
     "execution_count": 12,
     "metadata": {},
     "output_type": "execute_result"
    }
   ],
   "source": [
    "count = 0\n",
    "fib3(100), count"
   ]
  },
  {
   "cell_type": "code",
   "execution_count": 13,
   "metadata": {},
   "outputs": [
    {
     "data": {
      "text/plain": [
       "(354224848179261915075, 99)"
      ]
     },
     "execution_count": 13,
     "metadata": {},
     "output_type": "execute_result"
    }
   ],
   "source": [
    "count = 0\n",
    "fib4(100), count"
   ]
  },
  {
   "cell_type": "markdown",
   "metadata": {},
   "source": [
    "理论来讲99次应该是最低的迭代次数了，所以fib3()的计数可能跟调用装饰函数有关，导致了计数异常，待后续解答"
   ]
  },
  {
   "cell_type": "markdown",
   "metadata": {},
   "source": [
    "## 6. 使用生成器生成fib数列"
   ]
  },
  {
   "cell_type": "code",
   "execution_count": 16,
   "metadata": {},
   "outputs": [],
   "source": [
    "def fib6(n):\n",
    "    yield 0\n",
    "    if n>0: yield 1\n",
    "    last, next = 0, 1\n",
    "    for _ in range(1, n):\n",
    "        last, next = next, last + next\n",
    "        yield next"
   ]
  },
  {
   "cell_type": "code",
   "execution_count": 17,
   "metadata": {},
   "outputs": [
    {
     "name": "stdout",
     "output_type": "stream",
     "text": [
      "218922995834555169026\n",
      "354224848179261915075\n"
     ]
    }
   ],
   "source": [
    "for id, value in enumerate(fib6(100)):\n",
    "    if id > 98:\n",
    "        print(value)"
   ]
  },
  {
   "cell_type": "code",
   "execution_count": null,
   "metadata": {},
   "outputs": [],
   "source": []
  }
 ],
 "metadata": {
  "kernelspec": {
   "display_name": "d2l",
   "language": "python",
   "name": "python3"
  },
  "language_info": {
   "codemirror_mode": {
    "name": "ipython",
    "version": 3
   },
   "file_extension": ".py",
   "mimetype": "text/x-python",
   "name": "python",
   "nbconvert_exporter": "python",
   "pygments_lexer": "ipython3",
   "version": "3.9.18"
  },
  "orig_nbformat": 4
 },
 "nbformat": 4,
 "nbformat_minor": 2
}
