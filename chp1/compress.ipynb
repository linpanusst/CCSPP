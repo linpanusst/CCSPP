{
 "cells": [
  {
   "cell_type": "markdown",
   "metadata": {},
   "source": [
    "# 总结：\n",
    "1. python创建int类型，最小不少于28字节\n",
    "2. 对于部分数据如果小于1个字符，即8个二进制位，8bit时，使用位串(bit string)进行存储"
   ]
  },
  {
   "cell_type": "markdown",
   "metadata": {},
   "source": [
    "以A,C,G,T为例，DNA的元素进行压缩和解压缩"
   ]
  },
  {
   "cell_type": "code",
   "execution_count": 29,
   "metadata": {},
   "outputs": [],
   "source": [
    "class CompressGen:\n",
    "\n",
    "    def __init__(self, gene) -> None:\n",
    "        self._compress(gene)\n",
    "\n",
    "    def _compress(self, gene:str):\n",
    "        self.bit_string: int = 1\n",
    "        for t in gene.upper():\n",
    "            self.bit_string <<=2\n",
    "            if t == \"A\":\n",
    "                self.bit_string |= 0b00\n",
    "            elif t == \"C\":\n",
    "                self.bit_string |= 0b01\n",
    "            elif t == \"G\":\n",
    "                self.bit_string |= 0b10\n",
    "            elif t == \"T\":\n",
    "                self.bit_string |= 0b11\n",
    "            else:\n",
    "                raise ValueError(f\"Invalid value {t}\")\n",
    "            \n",
    "    def __str__(self) -> str:\n",
    "        return self.decompress()\n",
    "    \n",
    "    def decompress(self):\n",
    "        gene: str= \"\"\n",
    "        for i in range(0, self.bit_string.bit_length()-1, 2):\n",
    "            bits: int = self.bit_string >> i & 0b11\n",
    "            if bits == 0b00:\n",
    "                gene += \"A\"\n",
    "            elif bits == 0b01:\n",
    "                gene += \"C\"\n",
    "            elif bits == 0b10:\n",
    "                gene += \"G\"\n",
    "            elif bits == 0b11:\n",
    "                gene += \"T\"\n",
    "            else:\n",
    "                raise ValueError(f\"Invalid bits: {bits}\")\n",
    "        return gene[::-1]"
   ]
  },
  {
   "cell_type": "code",
   "execution_count": 33,
   "metadata": {},
   "outputs": [
    {
     "data": {
      "text/plain": [
       "9049"
      ]
     },
     "execution_count": 33,
     "metadata": {},
     "output_type": "execute_result"
    }
   ],
   "source": [
    "test_str = \"ACGTCATCG\"*1000\n",
    "from sys import getsizeof\n",
    "getsizeof(test_str)"
   ]
  },
  {
   "cell_type": "code",
   "execution_count": 34,
   "metadata": {},
   "outputs": [
    {
     "data": {
      "text/plain": [
       "2428"
      ]
     },
     "execution_count": 34,
     "metadata": {},
     "output_type": "execute_result"
    }
   ],
   "source": [
    "compressed_str = CompressGen(test_str)\n",
    "getsizeof(compressed_str.bit_string)"
   ]
  },
  {
   "cell_type": "code",
   "execution_count": 35,
   "metadata": {},
   "outputs": [
    {
     "data": {
      "text/plain": [
       "True"
      ]
     },
     "execution_count": 35,
     "metadata": {},
     "output_type": "execute_result"
    }
   ],
   "source": [
    "test_str == compressed_str.decompress()"
   ]
  },
  {
   "cell_type": "markdown",
   "metadata": {},
   "source": [
    "因为原数据为1byte，8个bit，压缩后的数据为2bit，所以压缩率为25%，而根据计算得到的压缩率接近25%。"
   ]
  },
  {
   "cell_type": "code",
   "execution_count": 44,
   "metadata": {},
   "outputs": [
    {
     "data": {
      "text/plain": [
       "50"
      ]
     },
     "execution_count": 44,
     "metadata": {},
     "output_type": "execute_result"
    }
   ],
   "source": [
    "test_str = \"A\"\n",
    "getsizeof(test_str)"
   ]
  },
  {
   "cell_type": "code",
   "execution_count": 43,
   "metadata": {},
   "outputs": [
    {
     "data": {
      "text/plain": [
       "28"
      ]
     },
     "execution_count": 43,
     "metadata": {},
     "output_type": "execute_result"
    }
   ],
   "source": [
    "compressed_str = CompressGen(test_str)\n",
    "getsizeof(compressed_str.bit_string)"
   ]
  },
  {
   "cell_type": "code",
   "execution_count": 45,
   "metadata": {},
   "outputs": [
    {
     "data": {
      "text/plain": [
       "28"
      ]
     },
     "execution_count": 45,
     "metadata": {},
     "output_type": "execute_result"
    }
   ],
   "source": [
    "test_int = 1\n",
    "getsizeof(test_int)"
   ]
  },
  {
   "cell_type": "markdown",
   "metadata": {},
   "source": [
    "此处当字符的值只有一个A时，它的长度为50bit，也就是说python对于字符定义的最短长度为50，同样的最小的int值的长度要至少占用28个字节。这个是由python语言的设计导致的，python语言无需定义变量的类型，提供了方便的同时也占用了更多的资源。"
   ]
  },
  {
   "cell_type": "markdown",
   "metadata": {},
   "source": []
  }
 ],
 "metadata": {
  "kernelspec": {
   "display_name": "d2l",
   "language": "python",
   "name": "python3"
  },
  "language_info": {
   "codemirror_mode": {
    "name": "ipython",
    "version": 3
   },
   "file_extension": ".py",
   "mimetype": "text/x-python",
   "name": "python",
   "nbconvert_exporter": "python",
   "pygments_lexer": "ipython3",
   "version": "3.9.18"
  },
  "orig_nbformat": 4
 },
 "nbformat": 4,
 "nbformat_minor": 2
}
